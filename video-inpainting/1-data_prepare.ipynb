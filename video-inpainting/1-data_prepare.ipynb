{
 "cells": [
  {
   "cell_type": "code",
   "execution_count": 8,
   "metadata": {},
   "outputs": [],
   "source": [
    "from pathlib import Path\n",
    "from dataclasses import dataclass, asdict\n",
    "from typing import Tuple\n",
    "import json\n",
    "import numpy as np\n",
    "import torch\n",
    "from tqdm import tqdm\n",
    "\n",
    "from PIL import Image\n",
    "import matplotlib.pyplot as plt\n",
    "from lavis.models import load_model_and_preprocess\n",
    "\n",
    "device = torch.device(\"cuda\") if torch.cuda.is_available() else \"cpu\""
   ]
  },
  {
   "cell_type": "code",
   "execution_count": 2,
   "metadata": {},
   "outputs": [],
   "source": [
    "@dataclass\n",
    "class DataUnit:\n",
    "    image: str\n",
    "    caption: str\n",
    "    mask: Tuple[str, int]  # (image, index), where mask = image == index\n",
    "    prev_image: str\n",
    "    prev_mask: Tuple[str, int]\n",
    "    \n",
    "    def __post_init__(self):\n",
    "        self.image = str(self.image)\n",
    "        self.mask = (str(self.mask[0]), self.mask[1])\n",
    "        self.prev_image = str(self.prev_image)\n",
    "        self.prev_mask = (str(self.prev_mask[0]), self.prev_mask[1])"
   ]
  },
  {
   "cell_type": "markdown",
   "metadata": {},
   "source": [
    "### BLIP model for caption"
   ]
  },
  {
   "cell_type": "code",
   "execution_count": 3,
   "metadata": {},
   "outputs": [
    {
     "data": {
      "application/vnd.jupyter.widget-view+json": {
       "model_id": "49297b9b8fe24951a41aead7e9625453",
       "version_major": 2,
       "version_minor": 0
      },
      "text/plain": [
       "Loading checkpoint shards:   0%|          | 0/2 [00:00<?, ?it/s]"
      ]
     },
     "metadata": {},
     "output_type": "display_data"
    }
   ],
   "source": [
    "model, vis_processors, _ = load_model_and_preprocess(\n",
    "    name=\"blip2_vicuna_instruct\",\n",
    "    model_type=\"vicuna7b\",\n",
    "    is_eval=True,\n",
    "    device=device,\n",
    ")"
   ]
  },
  {
   "cell_type": "code",
   "execution_count": 4,
   "metadata": {},
   "outputs": [],
   "source": [
    "def get_caption(filename: str):\n",
    "    image = Image.open(filename).convert(\"RGB\")\n",
    "    image = vis_processors[\"eval\"](image).unsqueeze(0).to(device)\n",
    "    caption = model.generate({\"image\": image})[0]\n",
    "    return caption"
   ]
  },
  {
   "cell_type": "markdown",
   "metadata": {},
   "source": [
    "### Data Loading"
   ]
  },
  {
   "cell_type": "code",
   "execution_count": 5,
   "metadata": {},
   "outputs": [],
   "source": [
    "src_dir = Path(\"/data/video-dataset/VSPW/\")\n",
    "with open(src_dir / \"label_num_dic_final.json\", \"r\") as f:\n",
    "    label2idx = json.load(f)\n",
    "idx2label = {idx: label for label, idx in label2idx.items()}"
   ]
  },
  {
   "cell_type": "code",
   "execution_count": 6,
   "metadata": {},
   "outputs": [],
   "source": [
    "vid = \"415_5FjFtNEBX2I\"\n",
    "video_dir = src_dir / \"data\" / vid\n",
    "frames = sorted((video_dir / \"origin\").glob(\"*.jpg\"))\n",
    "masks = sorted((video_dir / \"mask\").glob(\"*.png\"))"
   ]
  },
  {
   "cell_type": "code",
   "execution_count": 9,
   "metadata": {},
   "outputs": [
    {
     "name": "stderr",
     "output_type": "stream",
     "text": [
      "  0%|          | 0/135 [00:00<?, ?it/s]/home/longc/miniconda3/envs/LAVIS/lib/python3.10/site-packages/transformers/generation/utils.py:1417: UserWarning: You have modified the pretrained model configuration to control generation. This is a deprecated strategy to control generation and will be removed soon, in a future version. Please use a generation configuration file (see https://huggingface.co/docs/transformers/main_classes/text_generation )\n",
      "  warnings.warn(\n",
      "/home/longc/miniconda3/envs/LAVIS/lib/python3.10/site-packages/transformers/generation/configuration_utils.py:367: UserWarning: `do_sample` is set to `False`. However, `top_p` is set to `0.9` -- this flag is only used in sample-based generation modes. You should set `do_sample=True` or unset `top_p`.\n",
      "  warnings.warn(\n",
      "100%|██████████| 135/135 [00:56<00:00,  2.38it/s]\n"
     ]
    }
   ],
   "source": [
    "sample_dataset = []\n",
    "for prev, curr in tqdm(zip(range(0, len(frames) - 1), range(1, len(frames))), total=len(frames) - 1):\n",
    "    mask_index = 122\n",
    "    data_unit = DataUnit(\n",
    "        image=frames[curr],\n",
    "        caption=get_caption(frames[curr]),\n",
    "        mask=(masks[curr], mask_index),\n",
    "        prev_image=frames[prev],\n",
    "        prev_mask=(masks[prev], mask_index),\n",
    "    )\n",
    "    sample_dataset.append(data_unit)"
   ]
  },
  {
   "cell_type": "code",
   "execution_count": 15,
   "metadata": {},
   "outputs": [],
   "source": [
    "import shutil\n",
    "import cv2\n",
    "\n",
    "output_dir = Path(\"/home/longc/data/code/lora-scripts/config/video-example\")\n",
    "for du in sample_dataset[:2]:\n",
    "    shutil.copy(du.image, output_dir / \"images\")\n",
    "    shutil.copy(du.prev_image, output_dir / \"images\")\n",
    "\n",
    "    mask = (np.array(Image.open(du.mask[0])) == du.mask[1]).astype(np.uint8) * 255\n",
    "    cv2.imwrite(str(output_dir / \"masks\" / Path(du.mask[0]).name), mask)\n",
    "    prev_mask = (np.array(Image.open(du.prev_mask[0])) == du.prev_mask[1]).astype(\n",
    "        np.uint8\n",
    "    ) * 255\n",
    "    cv2.imwrite(str(output_dir / \"masks\" / Path(du.prev_mask[0]).name), prev_mask)"
   ]
  },
  {
   "cell_type": "code",
   "execution_count": 11,
   "metadata": {},
   "outputs": [],
   "source": [
    "with open(src_dir / \"data.jsonl\", \"w\") as f:\n",
    "    for data_unit in sample_dataset:\n",
    "        f.write(json.dumps(asdict(data_unit)) + \"\\n\")"
   ]
  },
  {
   "cell_type": "markdown",
   "metadata": {},
   "source": [
    "### Debug Label"
   ]
  },
  {
   "cell_type": "code",
   "execution_count": 38,
   "metadata": {},
   "outputs": [
    {
     "name": "stdout",
     "output_type": "stream",
     "text": [
      "pole 13\n",
      "floor 14\n",
      "person 61\n",
      "box 77\n",
      "tub_or_bowl_or_pot 84\n",
      "table_or_desk 90\n",
      "food 122\n"
     ]
    }
   ],
   "source": [
    "mask = np.array(Image.open(masks[0]))\n",
    "for idx in np.unique(mask):\n",
    "    print(idx2label[str(idx)], idx)"
   ]
  },
  {
   "cell_type": "code",
   "execution_count": 43,
   "metadata": {},
   "outputs": [
    {
     "data": {
      "text/plain": [
       "<matplotlib.image.AxesImage at 0x7fca5bd03e20>"
      ]
     },
     "execution_count": 43,
     "metadata": {},
     "output_type": "execute_result"
    },
    {
     "data": {
      "image/png": "[encoded data removed]",
      "text/plain": [
       "<Figure size 640x480 with 1 Axes>"
      ]
     },
     "metadata": {},
     "output_type": "display_data"
    }
   ],
   "source": [
    "plt.imshow(mask == 122)"
   ]
  }
 ],
 "metadata": {
  "kernelspec": {
   "display_name": "sd",
   "language": "python",
   "name": "python3"
  },
  "language_info": {
   "codemirror_mode": {
    "name": "ipython",
    "version": 3
   },
   "file_extension": ".py",
   "mimetype": "text/x-python",
   "name": "python",
   "nbconvert_exporter": "python",
   "pygments_lexer": "ipython3",
   "version": "3.10.0"
  }
 },
 "nbformat": 4,
 "nbformat_minor": 2
}
